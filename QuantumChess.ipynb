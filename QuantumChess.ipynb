{
  "cells": [
    {
      "cell_type": "markdown",
      "metadata": {
        "id": "view-in-github",
        "colab_type": "text"
      },
      "source": [
        "<a href=\"https://colab.research.google.com/github/cst0313/QuantumChess-mini/blob/main/QuantumChess.ipynb\" target=\"_parent\"><img src=\"https://colab.research.google.com/assets/colab-badge.svg\" alt=\"Open In Colab\"/></a>"
      ]
    },
    {
      "cell_type": "code",
      "execution_count": null,
      "metadata": {
        "id": "wwvwO1KYzsmw"
      },
      "outputs": [],
      "source": [
        "!pip install qiskit"
      ]
    },
    {
      "cell_type": "code",
      "execution_count": null,
      "metadata": {
        "id": "VNzNbOBK0sO7"
      },
      "outputs": [],
      "source": [
        "from qiskit.quantum_info.operators import Operator"
      ]
    },
    {
      "cell_type": "code",
      "execution_count": null,
      "metadata": {
        "id": "asjrD3-szwt8"
      },
      "outputs": [],
      "source": [
        "from qiskit import QuantumCircuit, Aer, assemble,  QuantumRegister, ClassicalRegister"
      ]
    },
    {
      "cell_type": "code",
      "execution_count": null,
      "metadata": {
        "id": "2SHrTmaX1KL8"
      },
      "outputs": [],
      "source": [
        "import math"
      ]
    },
    {
      "cell_type": "code",
      "execution_count": null,
      "metadata": {
        "id": "0ML-Tyh12Tp0"
      },
      "outputs": [],
      "source": [
        "!pip install qiskit[visualization]"
      ]
    },
    {
      "cell_type": "code",
      "execution_count": null,
      "metadata": {
        "id": "HPR_MzQR2WkK"
      },
      "outputs": [],
      "source": [
        "from qiskit.visualization import plot_histogram, plot_bloch_multivector, array_to_latex"
      ]
    },
    {
      "cell_type": "code",
      "execution_count": null,
      "metadata": {
        "id": "2NeUa6HQ0IHz"
      },
      "outputs": [],
      "source": [
        "#Def split operator\n",
        "\n",
        "iSWAP = Operator([\n",
        "    [1,0,0,0],\n",
        "    [0,0,1j,0],\n",
        "    [0,1j,0,0],\n",
        "    [0,0,0,1],\n",
        "])"
      ]
    },
    {
      "cell_type": "code",
      "execution_count": null,
      "metadata": {
        "colab": {
          "base_uri": "https://localhost:8080/",
          "height": 504
        },
        "id": "u0LRg4c40AoD",
        "outputId": "7fd5a60b-2fc4-491a-b7bb-753850a7afe1"
      },
      "outputs": [
        {
          "data": {
            "image/png": "[encoded data removed]",
            "text/plain": [
              "<Figure size 701.578x626.08 with 1 Axes>"
            ]
          },
          "execution_count": 8,
          "metadata": {},
          "output_type": "execute_result"
        }
      ],
      "source": [
        "qr = QuantumRegister(9)\n",
        "cr = ClassicalRegister(9)\n",
        "qc = QuantumCircuit(qr,cr)\n",
        "\n",
        "qc.x(qr[0])\n",
        "#a1 to b1\n",
        "qc.iswap(qr[0],qr[3])\n",
        "qc.measure(qr,cr)\n",
        "\n",
        "qc.draw('mpl')"
      ]
    },
    {
      "cell_type": "code",
      "execution_count": null,
      "metadata": {
        "colab": {
          "base_uri": "https://localhost:8080/"
        },
        "id": "A4dS3Wat1xXb",
        "outputId": "4e07c92d-a5f2-4f19-f2ad-fd0b79c7e606"
      },
      "outputs": [
        {
          "name": "stderr",
          "output_type": "stream",
          "text": [
            "WARNING:qiskit_aer.backends.aerbackend:Simulation failed and returned the following error message:\n",
            "ERROR:  [Experiment 0] Circuit circuit-85 contains invalid instructions {\"gates\": {iswap}} for \"statevector\" method.\n"
          ]
        },
        {
          "name": "stdout",
          "output_type": "stream",
          "text": [
            "Result(backend_name='aer_simulator', backend_version='0.11.2', qobj_id='90e681ef-c91a-4272-a537-bd69475d083f', job_id='3db843c2-e17d-41df-bc1b-5f3385ae0ae2', success=False, results=[ExperimentResult(shots=0, success=False, meas_level=2, data=ExperimentResultData(), status=ERROR: Circuit circuit-85 contains invalid instructions {\"gates\": {iswap}} for \"statevector\" method., seed_simulator=0, metadata={'noise': 'ideal', 'batched_shots_optimization': False, 'measure_sampling': False, 'device': 'CPU', 'num_qubits': 9, 'remapped_qubits': False, 'method': 'statevector', 'active_input_qubits': [0, 1, 2, 3, 4, 5, 6, 7, 8], 'num_clbits': 9, 'input_qubit_map': [[8, 8], [7, 7], [6, 6], [1, 1], [0, 0], [2, 2], [3, 3], [4, 4], [5, 5]]}, time_taken=0.0)], date=2022-12-10T01:53:33.848381, status=ERROR:  [Experiment 0] Circuit circuit-85 contains invalid instructions {\"gates\": {iswap}} for \"statevector\" method., header=None, metadata={'time_taken': 0.000508479, 'time_taken_execute': 0.000267871, 'mpi_rank': 0, 'parallel_experiments': 1, 'omp_enabled': True, 'max_gpu_memory_mb': 0, 'num_processes_per_experiments': 1, 'num_mpi_processes': 1, 'time_taken_load_qobj': 0.000231126, 'max_memory_mb': 12985}, time_taken=0.0007276535034179688)\n"
          ]
        }
      ],
      "source": [
        "svsim = Aer.get_backend('aer_simulator')\n",
        "qc.save_statevector()\n",
        "qobj = assemble(qc)\n",
        "final_state = svsim.run(qobj).result()\n",
        "print(final_state)"
      ]
    },
    {
      "cell_type": "code",
      "execution_count": null,
      "metadata": {
        "id": "TNc1wC7-2b_q"
      },
      "outputs": [],
      "source": [
        "from qiskit.circuit.library import iSwapGate\n",
        "sqrt_iSWAP = iSwapGate().power(1/2)\n",
        "#https://quantumcomputing.stackexchange.com/questions/13071/making-custom-gate-in-qiskit"
      ]
    },
    {
      "cell_type": "code",
      "execution_count": null,
      "metadata": {
        "colab": {
          "base_uri": "https://localhost:8080/",
          "height": 504
        },
        "id": "RePr9f-V4I76",
        "outputId": "343adda9-8bf7-4d83-9cbf-c5268916e841"
      },
      "outputs": [
        {
          "data": {
            "image/png": "[encoded data removed]",
            "text/plain": [
              "<Figure size 761.923x626.08 with 1 Axes>"
            ]
          },
          "execution_count": 11,
          "metadata": {},
          "output_type": "execute_result"
        }
      ],
      "source": [
        "import numpy as np\n",
        "\n",
        "qr = QuantumRegister(9)\n",
        "cr = ClassicalRegister(9)\n",
        "qc = QuantumCircuit(qr,cr)\n",
        "\n",
        "qc.x(qr[0])\n",
        "#a1 to b1 b2\n",
        "qc.append(sqrt_iSWAP, [qr[0],qr[3]])\n",
        "qc.iswap(qr[0],qr[4])\n",
        "qc.measure(qr,cr)\n",
        "\n",
        "qc.draw('mpl')"
      ]
    },
    {
      "cell_type": "code",
      "execution_count": null,
      "metadata": {
        "colab": {
          "base_uri": "https://localhost:8080/"
        },
        "id": "ymr2DwCL4avr",
        "outputId": "b64cbcf9-d8f7-46dd-900b-5e8b3b9a8355"
      },
      "outputs": [
        {
          "name": "stdout",
          "output_type": "stream",
          "text": [
            "[Errno 2] No such file or directory: 'gdrive/My Drive/Colab Notebooks/'\n",
            "/content\n"
          ]
        }
      ],
      "source": [
        "%cd gdrive/My\\ Drive/Colab\\ Notebooks/\n"
      ]
    },
    {
      "cell_type": "code",
      "execution_count": null,
      "metadata": {
        "colab": {
          "base_uri": "https://localhost:8080/"
        },
        "id": "TlkmnvOO0srx",
        "outputId": "f06e1de3-3f34-4b0f-c7cf-3f9472ccfcaf"
      },
      "outputs": [
        {
          "name": "stdout",
          "output_type": "stream",
          "text": [
            "Drive already mounted at /content/drive; to attempt to forcibly remount, call drive.mount(\"/content/drive\", force_remount=True).\n"
          ]
        }
      ],
      "source": [
        "from google.colab import drive\n",
        "drive.mount('/content/drive')"
      ]
    },
    {
      "cell_type": "code",
      "execution_count": null,
      "metadata": {
        "colab": {
          "base_uri": "https://localhost:8080/"
        },
        "id": "dKs-sd17zHjp",
        "outputId": "75e971ca-4683-4e96-9e22-02ae3d3caf8e"
      },
      "outputs": [
        {
          "name": "stdout",
          "output_type": "stream",
          "text": [
            "python3: can't open file 'gdrive/My Drive/Colab Notebooks/chess/chess.py': [Errno 2] No such file or directory\n"
          ]
        }
      ],
      "source": [
        "!python gdrive/My\\ Drive/Colab\\ Notebooks/chess/chess.py"
      ]
    },
    {
      "cell_type": "code",
      "execution_count": null,
      "metadata": {
        "colab": {
          "base_uri": "https://localhost:8080/"
        },
        "id": "lVEBzqxu0FUZ",
        "outputId": "2adb159f-3008-4a53-b465-64f2252253c3"
      },
      "outputs": [
        {
          "name": "stdout",
          "output_type": "stream",
          "text": [
            "/content/drive/My Drive/Colab Notebooks/chess/src\n"
          ]
        }
      ],
      "source": [
        "%cd src"
      ]
    },
    {
      "cell_type": "code",
      "execution_count": null,
      "metadata": {
        "colab": {
          "base_uri": "https://localhost:8080/"
        },
        "id": "ndB0c4gA0jIw",
        "outputId": "87847b0a-8df8-49e3-bac0-f9e09318f335"
      },
      "outputs": [
        {
          "name": "stdout",
          "output_type": "stream",
          "text": [
            "README.md  src\n"
          ]
        }
      ],
      "source": [
        "!ls"
      ]
    },
    {
      "cell_type": "code",
      "execution_count": null,
      "metadata": {
        "colab": {
          "background_save": true,
          "base_uri": "https://localhost:8080/"
        },
        "id": "Df7IF4ct1Jt_",
        "outputId": "1bf328d0-f44e-40b0-a4de-16dac0dae127"
      },
      "outputs": [
        {
          "name": "stdout",
          "output_type": "stream",
          "text": [
            "*********************************\n",
            "| \u001b[94mR\u001b[0m | \u001b[94mN\u001b[0m | \u001b[94mB\u001b[0m | \u001b[94mQ\u001b[0m | \u001b[94mK\u001b[0m | \u001b[94mB\u001b[0m | \u001b[94mN\u001b[0m | \u001b[94mR\u001b[0m |\n",
            "| \u001b[94mP\u001b[0m | \u001b[94mP\u001b[0m | \u001b[94mP\u001b[0m | \u001b[94mP\u001b[0m | \u001b[94mP\u001b[0m | \u001b[94mP\u001b[0m | \u001b[94mP\u001b[0m | \u001b[94mP\u001b[0m |\n",
            "|   |   |   |   |   |   |   |   |\n",
            "|   |   |   |   |   |   |   |   |\n",
            "|   |   |   |   |   |   |   |   |\n",
            "|   |   |   |   |   |   |   |   |\n",
            "| P | P | P | P | P | P | P | P |\n",
            "| R | N | B | Q | K | B | N | R |\n",
            "*********************************\n",
            "From: 2d\n",
            "To: 4d\n",
            "P moved.\n",
            "*********************************\n",
            "| \u001b[94mR\u001b[0m | \u001b[94mN\u001b[0m | \u001b[94mB\u001b[0m | \u001b[94mQ\u001b[0m | \u001b[94mK\u001b[0m | \u001b[94mB\u001b[0m | \u001b[94mN\u001b[0m | \u001b[94mR\u001b[0m |\n",
            "| \u001b[94mP\u001b[0m | \u001b[94mP\u001b[0m | \u001b[94mP\u001b[0m | \u001b[94mP\u001b[0m | \u001b[94mP\u001b[0m | \u001b[94mP\u001b[0m | \u001b[94mP\u001b[0m | \u001b[94mP\u001b[0m |\n",
            "|   |   |   |   |   |   |   |   |\n",
            "|   |   |   |   |   |   |   |   |\n",
            "|   |   |   | P |   |   |   |   |\n",
            "|   |   |   |   |   |   |   |   |\n",
            "| P | P | P |   | P | P | P | P |\n",
            "| R | N | B | Q | K | B | N | R |\n",
            "*********************************\n",
            "From: 7d\n",
            "To: 5d\n",
            "\u001b[94mP\u001b[0m moved.\n",
            "*********************************\n",
            "| \u001b[94mR\u001b[0m | \u001b[94mN\u001b[0m | \u001b[94mB\u001b[0m | \u001b[94mQ\u001b[0m | \u001b[94mK\u001b[0m | \u001b[94mB\u001b[0m | \u001b[94mN\u001b[0m | \u001b[94mR\u001b[0m |\n",
            "| \u001b[94mP\u001b[0m | \u001b[94mP\u001b[0m | \u001b[94mP\u001b[0m |   | \u001b[94mP\u001b[0m | \u001b[94mP\u001b[0m | \u001b[94mP\u001b[0m | \u001b[94mP\u001b[0m |\n",
            "|   |   |   |   |   |   |   |   |\n",
            "|   |   |   | \u001b[94mP\u001b[0m |   |   |   |   |\n",
            "|   |   |   | P |   |   |   |   |\n",
            "|   |   |   |   |   |   |   |   |\n",
            "| P | P | P |   | P | P | P | P |\n",
            "| R | N | B | Q | K | B | N | R |\n",
            "*********************************\n",
            "From: 3a\n",
            "To: 7e\n",
            "There is no piece to move at the start place\n",
            "*********************************\n",
            "| \u001b[94mR\u001b[0m | \u001b[94mN\u001b[0m | \u001b[94mB\u001b[0m | \u001b[94mQ\u001b[0m | \u001b[94mK\u001b[0m | \u001b[94mB\u001b[0m | \u001b[94mN\u001b[0m | \u001b[94mR\u001b[0m |\n",
            "| \u001b[94mP\u001b[0m | \u001b[94mP\u001b[0m | \u001b[94mP\u001b[0m |   | \u001b[94mP\u001b[0m | \u001b[94mP\u001b[0m | \u001b[94mP\u001b[0m | \u001b[94mP\u001b[0m |\n",
            "|   |   |   |   |   |   |   |   |\n",
            "|   |   |   | \u001b[94mP\u001b[0m |   |   |   |   |\n",
            "|   |   |   | P |   |   |   |   |\n",
            "|   |   |   |   |   |   |   |   |\n",
            "| P | P | P |   | P | P | P | P |\n",
            "| R | N | B | Q | K | B | N | R |\n",
            "*********************************\n",
            "From: 1c\n",
            "To: 5g\n",
            "B moved.\n",
            "*********************************\n",
            "| \u001b[94mR\u001b[0m | \u001b[94mN\u001b[0m | \u001b[94mB\u001b[0m | \u001b[94mQ\u001b[0m | \u001b[94mK\u001b[0m | \u001b[94mB\u001b[0m | \u001b[94mN\u001b[0m | \u001b[94mR\u001b[0m |\n",
            "| \u001b[94mP\u001b[0m | \u001b[94mP\u001b[0m | \u001b[94mP\u001b[0m |   | \u001b[94mP\u001b[0m | \u001b[94mP\u001b[0m | \u001b[94mP\u001b[0m | \u001b[94mP\u001b[0m |\n",
            "|   |   |   |   |   |   |   |   |\n",
            "|   |   |   | \u001b[94mP\u001b[0m |   |   | B |   |\n",
            "|   |   |   | P |   |   |   |   |\n",
            "|   |   |   |   |   |   |   |   |\n",
            "| P | P | P |   | P | P | P | P |\n",
            "| R | N |   | Q | K | B | N | R |\n",
            "*********************************\n",
            "From: 8b\n",
            "To: 6c\n",
            "\u001b[94mN\u001b[0m moved.\n",
            "*********************************\n",
            "| \u001b[94mR\u001b[0m |   | \u001b[94mB\u001b[0m | \u001b[94mQ\u001b[0m | \u001b[94mK\u001b[0m | \u001b[94mB\u001b[0m | \u001b[94mN\u001b[0m | \u001b[94mR\u001b[0m |\n",
            "| \u001b[94mP\u001b[0m | \u001b[94mP\u001b[0m | \u001b[94mP\u001b[0m |   | \u001b[94mP\u001b[0m | \u001b[94mP\u001b[0m | \u001b[94mP\u001b[0m | \u001b[94mP\u001b[0m |\n",
            "|   |   | \u001b[94mN\u001b[0m |   |   |   |   |   |\n",
            "|   |   |   | \u001b[94mP\u001b[0m |   |   | B |   |\n",
            "|   |   |   | P |   |   |   |   |\n",
            "|   |   |   |   |   |   |   |   |\n",
            "| P | P | P |   | P | P | P | P |\n",
            "| R | N |   | Q | K | B | N | R |\n",
            "*********************************\n",
            "From: 2e\n",
            "To: 3e\n",
            "P moved.\n",
            "*********************************\n",
            "| \u001b[94mR\u001b[0m |   | \u001b[94mB\u001b[0m | \u001b[94mQ\u001b[0m | \u001b[94mK\u001b[0m | \u001b[94mB\u001b[0m | \u001b[94mN\u001b[0m | \u001b[94mR\u001b[0m |\n",
            "| \u001b[94mP\u001b[0m | \u001b[94mP\u001b[0m | \u001b[94mP\u001b[0m |   | \u001b[94mP\u001b[0m | \u001b[94mP\u001b[0m | \u001b[94mP\u001b[0m | \u001b[94mP\u001b[0m |\n",
            "|   |   | \u001b[94mN\u001b[0m |   |   |   |   |   |\n",
            "|   |   |   | \u001b[94mP\u001b[0m |   |   | B |   |\n",
            "|   |   |   | P |   |   |   |   |\n",
            "|   |   |   |   | P |   |   |   |\n",
            "| P | P | P |   |   | P | P | P |\n",
            "| R | N |   | Q | K | B | N | R |\n",
            "*********************************\n",
            "From: 7a\n",
            "To: 5a\n",
            "\u001b[94mP\u001b[0m moved.\n",
            "*********************************\n",
            "| \u001b[94mR\u001b[0m |   | \u001b[94mB\u001b[0m | \u001b[94mQ\u001b[0m | \u001b[94mK\u001b[0m | \u001b[94mB\u001b[0m | \u001b[94mN\u001b[0m | \u001b[94mR\u001b[0m |\n",
            "|   | \u001b[94mP\u001b[0m | \u001b[94mP\u001b[0m |   | \u001b[94mP\u001b[0m | \u001b[94mP\u001b[0m | \u001b[94mP\u001b[0m | \u001b[94mP\u001b[0m |\n",
            "|   |   | \u001b[94mN\u001b[0m |   |   |   |   |   |\n",
            "| \u001b[94mP\u001b[0m |   |   | \u001b[94mP\u001b[0m |   |   | B |   |\n",
            "|   |   |   | P |   |   |   |   |\n",
            "|   |   |   |   | P |   |   |   |\n",
            "| P | P | P |   |   | P | P | P |\n",
            "| R | N |   | Q | K | B | N | R |\n",
            "*********************************\n",
            "From: "
          ]
        }
      ],
      "source": [
        "!python chess.py"
      ]
    }
  ],
  "metadata": {
    "colab": {
      "provenance": [],
      "include_colab_link": true
    },
    "kernelspec": {
      "display_name": "Python 3",
      "name": "python3"
    },
    "language_info": {
      "name": "python"
    }
  },
  "nbformat": 4,
  "nbformat_minor": 0
}